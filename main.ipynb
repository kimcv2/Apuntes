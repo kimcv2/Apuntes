{
 "cells": [
  {
   "cell_type": "code",
   "execution_count": 1,
   "metadata": {},
   "outputs": [
    {
     "name": "stdout",
     "output_type": "stream",
     "text": [
      "1\n",
      "10\n"
     ]
    }
   ],
   "source": [
    "data_1=[1,2,3,4,5]\n",
    "print(data_1[0])\n",
    "data_1[0]=10\n",
    "print(data_1[0])"
   ]
  },
  {
   "cell_type": "code",
   "execution_count": 3,
   "metadata": {},
   "outputs": [
    {
     "name": "stdout",
     "output_type": "stream",
     "text": [
      "1\n",
      "2\n",
      "3\n",
      "4\n"
     ]
    }
   ],
   "source": [
    "data_2=(1,2,3,4)\n",
    "for i in data_2:\n",
    "    print(i)"
   ]
  },
  {
   "cell_type": "code",
   "execution_count": null,
   "metadata": {},
   "outputs": [],
   "source": [
    "def suma(a:int, b:int) -> int:\n",
    "    return a+b"
   ]
  },
  {
   "cell_type": "code",
   "execution_count": null,
   "metadata": {},
   "outputs": [],
   "source": [
    "def resta(a:int, b:int) -> int:\n",
    "    return a-b"
   ]
  },
  {
   "cell_type": "code",
   "execution_count": null,
   "metadata": {},
   "outputs": [],
   "source": [
    "def multiplicacion(a:int, b:int) -> int:\n",
    "    return a*b"
   ]
  },
  {
   "cell_type": "code",
   "execution_count": null,
   "metadata": {},
   "outputs": [],
   "source": [
    "def division(a:int, b:int) -> float:\n",
    "    return a/b"
   ]
  },
  {
   "cell_type": "code",
   "execution_count": 8,
   "metadata": {},
   "outputs": [
    {
     "name": "stdout",
     "output_type": "stream",
     "text": [
      "9\n",
      "<function suma at 0x0000018A9A5593A0> (6, 7)\n",
      "1\n",
      "<function suma at 0x0000018A9A5593A0> (6, 7)\n",
      "20\n",
      "<function suma at 0x0000018A9A5593A0> (6, 7)\n",
      "1.25\n",
      "<function suma at 0x0000018A9A5593A0> (6, 7)\n"
     ]
    }
   ],
   "source": [
    "def suma(a:int, b:int) -> int:\n",
    "    return a+b\n",
    "def resta(a:int, b:int) -> int:\n",
    "    return a-b\n",
    "def multiplicacion(a:int, b:int) -> int:\n",
    "    return a*b\n",
    "def division(a:int, b:int) -> float:\n",
    "    return a/b\n",
    "\n",
    "operaciones=[suma, resta, multiplicacion, division]\n",
    "\n",
    "for operacion in operaciones:\n",
    "    print(operacion(5,4))\n",
    "    print(operaciones[0],(6,7))\n"
   ]
  }
 ],
 "metadata": {
  "kernelspec": {
   "display_name": "Python 3",
   "language": "python",
   "name": "python3"
  },
  "language_info": {
   "codemirror_mode": {
    "name": "ipython",
    "version": 3
   },
   "file_extension": ".py",
   "mimetype": "text/x-python",
   "name": "python",
   "nbconvert_exporter": "python",
   "pygments_lexer": "ipython3",
   "version": "3.11.5"
  },
  "orig_nbformat": 4
 },
 "nbformat": 4,
 "nbformat_minor": 2
}
